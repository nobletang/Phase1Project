{
 "cells": [
  {
   "cell_type": "markdown",
   "metadata": {},
   "source": [
    "# Hypotheses\n",
    "### 1. Runtime vs. gross\n",
    "### 2. higher movie budget = higher gross\n",
    "### 3. directors with more experience have higher gross\n",
    "### 4. type of genre returns higher gross\n",
    "### - benefits from not having to clean up groups /columns"
   ]
  },
  {
   "cell_type": "code",
   "execution_count": 1,
   "metadata": {},
   "outputs": [],
   "source": [
    "# import relevant modules\n",
    "import numpy as np\n",
    "import pandas as pd\n",
    "import matplotlib.pyplot as plt\n",
    "import seaborn as sns"
   ]
  },
  {
   "cell_type": "code",
   "execution_count": 2,
   "metadata": {},
   "outputs": [
    {
     "data": {
      "text/html": [
       "<div>\n",
       "<style scoped>\n",
       "    .dataframe tbody tr th:only-of-type {\n",
       "        vertical-align: middle;\n",
       "    }\n",
       "\n",
       "    .dataframe tbody tr th {\n",
       "        vertical-align: top;\n",
       "    }\n",
       "\n",
       "    .dataframe thead th {\n",
       "        text-align: right;\n",
       "    }\n",
       "</style>\n",
       "<table border=\"1\" class=\"dataframe\">\n",
       "  <thead>\n",
       "    <tr style=\"text-align: right;\">\n",
       "      <th></th>\n",
       "      <th>name</th>\n",
       "      <th>rating</th>\n",
       "      <th>genre</th>\n",
       "      <th>year</th>\n",
       "      <th>released</th>\n",
       "      <th>score</th>\n",
       "      <th>votes</th>\n",
       "      <th>director</th>\n",
       "      <th>writer</th>\n",
       "      <th>star</th>\n",
       "      <th>country</th>\n",
       "      <th>budget</th>\n",
       "      <th>gross</th>\n",
       "      <th>company</th>\n",
       "      <th>runtime</th>\n",
       "    </tr>\n",
       "  </thead>\n",
       "  <tbody>\n",
       "    <tr>\n",
       "      <th>0</th>\n",
       "      <td>The Shining</td>\n",
       "      <td>R</td>\n",
       "      <td>Drama</td>\n",
       "      <td>1980</td>\n",
       "      <td>June 13, 1980 (United States)</td>\n",
       "      <td>8.4</td>\n",
       "      <td>927000.0</td>\n",
       "      <td>Stanley Kubrick</td>\n",
       "      <td>Stephen King</td>\n",
       "      <td>Jack Nicholson</td>\n",
       "      <td>United Kingdom</td>\n",
       "      <td>19000000.0</td>\n",
       "      <td>46998772.0</td>\n",
       "      <td>Warner Bros.</td>\n",
       "      <td>146.0</td>\n",
       "    </tr>\n",
       "    <tr>\n",
       "      <th>1</th>\n",
       "      <td>The Blue Lagoon</td>\n",
       "      <td>R</td>\n",
       "      <td>Adventure</td>\n",
       "      <td>1980</td>\n",
       "      <td>July 2, 1980 (United States)</td>\n",
       "      <td>5.8</td>\n",
       "      <td>65000.0</td>\n",
       "      <td>Randal Kleiser</td>\n",
       "      <td>Henry De Vere Stacpoole</td>\n",
       "      <td>Brooke Shields</td>\n",
       "      <td>United States</td>\n",
       "      <td>4500000.0</td>\n",
       "      <td>58853106.0</td>\n",
       "      <td>Columbia Pictures</td>\n",
       "      <td>104.0</td>\n",
       "    </tr>\n",
       "    <tr>\n",
       "      <th>2</th>\n",
       "      <td>Star Wars: Episode V - The Empire Strikes Back</td>\n",
       "      <td>PG</td>\n",
       "      <td>Action</td>\n",
       "      <td>1980</td>\n",
       "      <td>June 20, 1980 (United States)</td>\n",
       "      <td>8.7</td>\n",
       "      <td>1200000.0</td>\n",
       "      <td>Irvin Kershner</td>\n",
       "      <td>Leigh Brackett</td>\n",
       "      <td>Mark Hamill</td>\n",
       "      <td>United States</td>\n",
       "      <td>18000000.0</td>\n",
       "      <td>538375067.0</td>\n",
       "      <td>Lucasfilm</td>\n",
       "      <td>124.0</td>\n",
       "    </tr>\n",
       "    <tr>\n",
       "      <th>3</th>\n",
       "      <td>Airplane!</td>\n",
       "      <td>PG</td>\n",
       "      <td>Comedy</td>\n",
       "      <td>1980</td>\n",
       "      <td>July 2, 1980 (United States)</td>\n",
       "      <td>7.7</td>\n",
       "      <td>221000.0</td>\n",
       "      <td>Jim Abrahams</td>\n",
       "      <td>Jim Abrahams</td>\n",
       "      <td>Robert Hays</td>\n",
       "      <td>United States</td>\n",
       "      <td>3500000.0</td>\n",
       "      <td>83453539.0</td>\n",
       "      <td>Paramount Pictures</td>\n",
       "      <td>88.0</td>\n",
       "    </tr>\n",
       "    <tr>\n",
       "      <th>4</th>\n",
       "      <td>Caddyshack</td>\n",
       "      <td>R</td>\n",
       "      <td>Comedy</td>\n",
       "      <td>1980</td>\n",
       "      <td>July 25, 1980 (United States)</td>\n",
       "      <td>7.3</td>\n",
       "      <td>108000.0</td>\n",
       "      <td>Harold Ramis</td>\n",
       "      <td>Brian Doyle-Murray</td>\n",
       "      <td>Chevy Chase</td>\n",
       "      <td>United States</td>\n",
       "      <td>6000000.0</td>\n",
       "      <td>39846344.0</td>\n",
       "      <td>Orion Pictures</td>\n",
       "      <td>98.0</td>\n",
       "    </tr>\n",
       "  </tbody>\n",
       "</table>\n",
       "</div>"
      ],
      "text/plain": [
       "                                             name rating      genre  year  \\\n",
       "0                                     The Shining      R      Drama  1980   \n",
       "1                                 The Blue Lagoon      R  Adventure  1980   \n",
       "2  Star Wars: Episode V - The Empire Strikes Back     PG     Action  1980   \n",
       "3                                       Airplane!     PG     Comedy  1980   \n",
       "4                                      Caddyshack      R     Comedy  1980   \n",
       "\n",
       "                        released  score      votes         director  \\\n",
       "0  June 13, 1980 (United States)    8.4   927000.0  Stanley Kubrick   \n",
       "1   July 2, 1980 (United States)    5.8    65000.0   Randal Kleiser   \n",
       "2  June 20, 1980 (United States)    8.7  1200000.0   Irvin Kershner   \n",
       "3   July 2, 1980 (United States)    7.7   221000.0     Jim Abrahams   \n",
       "4  July 25, 1980 (United States)    7.3   108000.0     Harold Ramis   \n",
       "\n",
       "                    writer            star         country      budget  \\\n",
       "0             Stephen King  Jack Nicholson  United Kingdom  19000000.0   \n",
       "1  Henry De Vere Stacpoole  Brooke Shields   United States   4500000.0   \n",
       "2           Leigh Brackett     Mark Hamill   United States  18000000.0   \n",
       "3             Jim Abrahams     Robert Hays   United States   3500000.0   \n",
       "4       Brian Doyle-Murray     Chevy Chase   United States   6000000.0   \n",
       "\n",
       "         gross             company  runtime  \n",
       "0   46998772.0        Warner Bros.    146.0  \n",
       "1   58853106.0   Columbia Pictures    104.0  \n",
       "2  538375067.0           Lucasfilm    124.0  \n",
       "3   83453539.0  Paramount Pictures     88.0  \n",
       "4   39846344.0      Orion Pictures     98.0  "
      ]
     },
     "execution_count": 2,
     "metadata": {},
     "output_type": "execute_result"
    }
   ],
   "source": [
    "# read in the csv file into a df\n",
    "movies_df = pd.read_csv('zippedData/movies.csv')\n",
    "movies_df.head()"
   ]
  },
  {
   "cell_type": "code",
   "execution_count": 3,
   "metadata": {},
   "outputs": [
    {
     "name": "stdout",
     "output_type": "stream",
     "text": [
      "<class 'pandas.core.frame.DataFrame'>\n",
      "RangeIndex: 7668 entries, 0 to 7667\n",
      "Data columns (total 15 columns):\n",
      " #   Column    Non-Null Count  Dtype  \n",
      "---  ------    --------------  -----  \n",
      " 0   name      7668 non-null   object \n",
      " 1   rating    7591 non-null   object \n",
      " 2   genre     7668 non-null   object \n",
      " 3   year      7668 non-null   int64  \n",
      " 4   released  7666 non-null   object \n",
      " 5   score     7665 non-null   float64\n",
      " 6   votes     7665 non-null   float64\n",
      " 7   director  7668 non-null   object \n",
      " 8   writer    7665 non-null   object \n",
      " 9   star      7667 non-null   object \n",
      " 10  country   7665 non-null   object \n",
      " 11  budget    5497 non-null   float64\n",
      " 12  gross     7479 non-null   float64\n",
      " 13  company   7651 non-null   object \n",
      " 14  runtime   7664 non-null   float64\n",
      "dtypes: float64(5), int64(1), object(9)\n",
      "memory usage: 898.7+ KB\n"
     ]
    }
   ],
   "source": [
    "# general info on the data - check datatypes and columns with missing rows\n",
    "movies_df.info()"
   ]
  },
  {
   "cell_type": "code",
   "execution_count": 4,
   "metadata": {},
   "outputs": [
    {
     "data": {
      "text/html": [
       "<div>\n",
       "<style scoped>\n",
       "    .dataframe tbody tr th:only-of-type {\n",
       "        vertical-align: middle;\n",
       "    }\n",
       "\n",
       "    .dataframe tbody tr th {\n",
       "        vertical-align: top;\n",
       "    }\n",
       "\n",
       "    .dataframe thead th {\n",
       "        text-align: right;\n",
       "    }\n",
       "</style>\n",
       "<table border=\"1\" class=\"dataframe\">\n",
       "  <thead>\n",
       "    <tr style=\"text-align: right;\">\n",
       "      <th></th>\n",
       "      <th>year</th>\n",
       "      <th>score</th>\n",
       "      <th>votes</th>\n",
       "      <th>budget</th>\n",
       "      <th>gross</th>\n",
       "      <th>runtime</th>\n",
       "    </tr>\n",
       "  </thead>\n",
       "  <tbody>\n",
       "    <tr>\n",
       "      <th>count</th>\n",
       "      <td>7668.000000</td>\n",
       "      <td>7665.000000</td>\n",
       "      <td>7.665000e+03</td>\n",
       "      <td>5.497000e+03</td>\n",
       "      <td>7.479000e+03</td>\n",
       "      <td>7664.000000</td>\n",
       "    </tr>\n",
       "    <tr>\n",
       "      <th>mean</th>\n",
       "      <td>2000.405451</td>\n",
       "      <td>6.390411</td>\n",
       "      <td>8.810850e+04</td>\n",
       "      <td>3.558988e+07</td>\n",
       "      <td>7.850054e+07</td>\n",
       "      <td>107.261613</td>\n",
       "    </tr>\n",
       "    <tr>\n",
       "      <th>std</th>\n",
       "      <td>11.153508</td>\n",
       "      <td>0.968842</td>\n",
       "      <td>1.633238e+05</td>\n",
       "      <td>4.145730e+07</td>\n",
       "      <td>1.657251e+08</td>\n",
       "      <td>18.581247</td>\n",
       "    </tr>\n",
       "    <tr>\n",
       "      <th>min</th>\n",
       "      <td>1980.000000</td>\n",
       "      <td>1.900000</td>\n",
       "      <td>7.000000e+00</td>\n",
       "      <td>3.000000e+03</td>\n",
       "      <td>3.090000e+02</td>\n",
       "      <td>55.000000</td>\n",
       "    </tr>\n",
       "    <tr>\n",
       "      <th>25%</th>\n",
       "      <td>1991.000000</td>\n",
       "      <td>5.800000</td>\n",
       "      <td>9.100000e+03</td>\n",
       "      <td>1.000000e+07</td>\n",
       "      <td>4.532056e+06</td>\n",
       "      <td>95.000000</td>\n",
       "    </tr>\n",
       "    <tr>\n",
       "      <th>50%</th>\n",
       "      <td>2000.000000</td>\n",
       "      <td>6.500000</td>\n",
       "      <td>3.300000e+04</td>\n",
       "      <td>2.050000e+07</td>\n",
       "      <td>2.020576e+07</td>\n",
       "      <td>104.000000</td>\n",
       "    </tr>\n",
       "    <tr>\n",
       "      <th>75%</th>\n",
       "      <td>2010.000000</td>\n",
       "      <td>7.100000</td>\n",
       "      <td>9.300000e+04</td>\n",
       "      <td>4.500000e+07</td>\n",
       "      <td>7.601669e+07</td>\n",
       "      <td>116.000000</td>\n",
       "    </tr>\n",
       "    <tr>\n",
       "      <th>max</th>\n",
       "      <td>2020.000000</td>\n",
       "      <td>9.300000</td>\n",
       "      <td>2.400000e+06</td>\n",
       "      <td>3.560000e+08</td>\n",
       "      <td>2.847246e+09</td>\n",
       "      <td>366.000000</td>\n",
       "    </tr>\n",
       "  </tbody>\n",
       "</table>\n",
       "</div>"
      ],
      "text/plain": [
       "              year        score         votes        budget         gross  \\\n",
       "count  7668.000000  7665.000000  7.665000e+03  5.497000e+03  7.479000e+03   \n",
       "mean   2000.405451     6.390411  8.810850e+04  3.558988e+07  7.850054e+07   \n",
       "std      11.153508     0.968842  1.633238e+05  4.145730e+07  1.657251e+08   \n",
       "min    1980.000000     1.900000  7.000000e+00  3.000000e+03  3.090000e+02   \n",
       "25%    1991.000000     5.800000  9.100000e+03  1.000000e+07  4.532056e+06   \n",
       "50%    2000.000000     6.500000  3.300000e+04  2.050000e+07  2.020576e+07   \n",
       "75%    2010.000000     7.100000  9.300000e+04  4.500000e+07  7.601669e+07   \n",
       "max    2020.000000     9.300000  2.400000e+06  3.560000e+08  2.847246e+09   \n",
       "\n",
       "           runtime  \n",
       "count  7664.000000  \n",
       "mean    107.261613  \n",
       "std      18.581247  \n",
       "min      55.000000  \n",
       "25%      95.000000  \n",
       "50%     104.000000  \n",
       "75%     116.000000  \n",
       "max     366.000000  "
      ]
     },
     "execution_count": 4,
     "metadata": {},
     "output_type": "execute_result"
    }
   ],
   "source": [
    "# describe method for columns with numerical data\n",
    "movies_df.describe()"
   ]
  },
  {
   "cell_type": "markdown",
   "metadata": {},
   "source": [
    "## Data-cleaning"
   ]
  },
  {
   "cell_type": "code",
   "execution_count": 5,
   "metadata": {},
   "outputs": [],
   "source": [
    "# drop the missing values without a budget\n",
    "movies_df.dropna(inplace=True)"
   ]
  },
  {
   "cell_type": "code",
   "execution_count": 6,
   "metadata": {},
   "outputs": [
    {
     "name": "stdout",
     "output_type": "stream",
     "text": [
      "<class 'pandas.core.frame.DataFrame'>\n",
      "Int64Index: 5421 entries, 0 to 7652\n",
      "Data columns (total 15 columns):\n",
      " #   Column    Non-Null Count  Dtype  \n",
      "---  ------    --------------  -----  \n",
      " 0   name      5421 non-null   object \n",
      " 1   rating    5421 non-null   object \n",
      " 2   genre     5421 non-null   object \n",
      " 3   year      5421 non-null   int64  \n",
      " 4   released  5421 non-null   object \n",
      " 5   score     5421 non-null   float64\n",
      " 6   votes     5421 non-null   float64\n",
      " 7   director  5421 non-null   object \n",
      " 8   writer    5421 non-null   object \n",
      " 9   star      5421 non-null   object \n",
      " 10  country   5421 non-null   object \n",
      " 11  budget    5421 non-null   float64\n",
      " 12  gross     5421 non-null   float64\n",
      " 13  company   5421 non-null   object \n",
      " 14  runtime   5421 non-null   float64\n",
      "dtypes: float64(5), int64(1), object(9)\n",
      "memory usage: 677.6+ KB\n"
     ]
    }
   ],
   "source": [
    "# checking dataframe again to make sure there are no longer any missing values\n",
    "# we lost about 2200 movies because they did not specify a production budget\n",
    "movies_df.info()"
   ]
  },
  {
   "cell_type": "code",
   "execution_count": 7,
   "metadata": {},
   "outputs": [
    {
     "data": {
      "text/html": [
       "<div>\n",
       "<style scoped>\n",
       "    .dataframe tbody tr th:only-of-type {\n",
       "        vertical-align: middle;\n",
       "    }\n",
       "\n",
       "    .dataframe tbody tr th {\n",
       "        vertical-align: top;\n",
       "    }\n",
       "\n",
       "    .dataframe thead th {\n",
       "        text-align: right;\n",
       "    }\n",
       "</style>\n",
       "<table border=\"1\" class=\"dataframe\">\n",
       "  <thead>\n",
       "    <tr style=\"text-align: right;\">\n",
       "      <th></th>\n",
       "      <th>year</th>\n",
       "      <th>score</th>\n",
       "      <th>votes</th>\n",
       "      <th>budget</th>\n",
       "      <th>gross</th>\n",
       "      <th>runtime</th>\n",
       "    </tr>\n",
       "  </thead>\n",
       "  <tbody>\n",
       "    <tr>\n",
       "      <th>count</th>\n",
       "      <td>5421.000000</td>\n",
       "      <td>5421.000000</td>\n",
       "      <td>5.421000e+03</td>\n",
       "      <td>5.421000e+03</td>\n",
       "      <td>5.421000e+03</td>\n",
       "      <td>5421.000000</td>\n",
       "    </tr>\n",
       "    <tr>\n",
       "      <th>mean</th>\n",
       "      <td>2001.661317</td>\n",
       "      <td>6.392455</td>\n",
       "      <td>1.150661e+05</td>\n",
       "      <td>3.600917e+07</td>\n",
       "      <td>1.032297e+08</td>\n",
       "      <td>108.152739</td>\n",
       "    </tr>\n",
       "    <tr>\n",
       "      <th>std</th>\n",
       "      <td>10.540908</td>\n",
       "      <td>0.962730</td>\n",
       "      <td>1.844073e+05</td>\n",
       "      <td>4.157337e+07</td>\n",
       "      <td>1.873027e+08</td>\n",
       "      <td>18.115698</td>\n",
       "    </tr>\n",
       "    <tr>\n",
       "      <th>min</th>\n",
       "      <td>1980.000000</td>\n",
       "      <td>1.900000</td>\n",
       "      <td>1.950000e+02</td>\n",
       "      <td>6.000000e+03</td>\n",
       "      <td>3.090000e+02</td>\n",
       "      <td>63.000000</td>\n",
       "    </tr>\n",
       "    <tr>\n",
       "      <th>25%</th>\n",
       "      <td>1993.000000</td>\n",
       "      <td>5.800000</td>\n",
       "      <td>1.900000e+04</td>\n",
       "      <td>1.000000e+07</td>\n",
       "      <td>1.073640e+07</td>\n",
       "      <td>95.000000</td>\n",
       "    </tr>\n",
       "    <tr>\n",
       "      <th>50%</th>\n",
       "      <td>2002.000000</td>\n",
       "      <td>6.500000</td>\n",
       "      <td>5.200000e+04</td>\n",
       "      <td>2.180000e+07</td>\n",
       "      <td>3.686941e+07</td>\n",
       "      <td>105.000000</td>\n",
       "    </tr>\n",
       "    <tr>\n",
       "      <th>75%</th>\n",
       "      <td>2011.000000</td>\n",
       "      <td>7.100000</td>\n",
       "      <td>1.290000e+05</td>\n",
       "      <td>4.500000e+07</td>\n",
       "      <td>1.124625e+08</td>\n",
       "      <td>118.000000</td>\n",
       "    </tr>\n",
       "    <tr>\n",
       "      <th>max</th>\n",
       "      <td>2020.000000</td>\n",
       "      <td>9.300000</td>\n",
       "      <td>2.400000e+06</td>\n",
       "      <td>3.560000e+08</td>\n",
       "      <td>2.847246e+09</td>\n",
       "      <td>271.000000</td>\n",
       "    </tr>\n",
       "  </tbody>\n",
       "</table>\n",
       "</div>"
      ],
      "text/plain": [
       "              year        score         votes        budget         gross  \\\n",
       "count  5421.000000  5421.000000  5.421000e+03  5.421000e+03  5.421000e+03   \n",
       "mean   2001.661317     6.392455  1.150661e+05  3.600917e+07  1.032297e+08   \n",
       "std      10.540908     0.962730  1.844073e+05  4.157337e+07  1.873027e+08   \n",
       "min    1980.000000     1.900000  1.950000e+02  6.000000e+03  3.090000e+02   \n",
       "25%    1993.000000     5.800000  1.900000e+04  1.000000e+07  1.073640e+07   \n",
       "50%    2002.000000     6.500000  5.200000e+04  2.180000e+07  3.686941e+07   \n",
       "75%    2011.000000     7.100000  1.290000e+05  4.500000e+07  1.124625e+08   \n",
       "max    2020.000000     9.300000  2.400000e+06  3.560000e+08  2.847246e+09   \n",
       "\n",
       "           runtime  \n",
       "count  5421.000000  \n",
       "mean    108.152739  \n",
       "std      18.115698  \n",
       "min      63.000000  \n",
       "25%      95.000000  \n",
       "50%     105.000000  \n",
       "75%     118.000000  \n",
       "max     271.000000  "
      ]
     },
     "execution_count": 7,
     "metadata": {},
     "output_type": "execute_result"
    }
   ],
   "source": [
    "movies_df.describe()"
   ]
  },
  {
   "cell_type": "markdown",
   "metadata": {},
   "source": [
    "# Correlation"
   ]
  },
  {
   "cell_type": "code",
   "execution_count": 8,
   "metadata": {},
   "outputs": [
    {
     "data": {
      "text/plain": [
       "<AxesSubplot:>"
      ]
     },
     "execution_count": 8,
     "metadata": {},
     "output_type": "execute_result"
    },
    {
     "data": {
      "image/png": "[encoded data removed]",
      "text/plain": [
       "<Figure size 864x576 with 2 Axes>"
      ]
     },
     "metadata": {
      "needs_background": "light"
     },
     "output_type": "display_data"
    }
   ],
   "source": [
    "# visualize the correlation between columns with a heatmap using seaborn\n",
    "plt.figure(figsize=(12,8))\n",
    "sns.heatmap(movies_df.corr(), annot=True)"
   ]
  },
  {
   "cell_type": "markdown",
   "metadata": {},
   "source": [
    "# Which month has the highest revenue?"
   ]
  },
  {
   "cell_type": "code",
   "execution_count": 9,
   "metadata": {},
   "outputs": [
    {
     "data": {
      "text/html": [
       "<div>\n",
       "<style scoped>\n",
       "    .dataframe tbody tr th:only-of-type {\n",
       "        vertical-align: middle;\n",
       "    }\n",
       "\n",
       "    .dataframe tbody tr th {\n",
       "        vertical-align: top;\n",
       "    }\n",
       "\n",
       "    .dataframe thead th {\n",
       "        text-align: right;\n",
       "    }\n",
       "</style>\n",
       "<table border=\"1\" class=\"dataframe\">\n",
       "  <thead>\n",
       "    <tr style=\"text-align: right;\">\n",
       "      <th></th>\n",
       "      <th>name</th>\n",
       "      <th>rating</th>\n",
       "      <th>genre</th>\n",
       "      <th>year</th>\n",
       "      <th>released</th>\n",
       "      <th>score</th>\n",
       "      <th>votes</th>\n",
       "      <th>director</th>\n",
       "      <th>writer</th>\n",
       "      <th>star</th>\n",
       "      <th>country</th>\n",
       "      <th>budget</th>\n",
       "      <th>gross</th>\n",
       "      <th>company</th>\n",
       "      <th>runtime</th>\n",
       "    </tr>\n",
       "  </thead>\n",
       "  <tbody>\n",
       "    <tr>\n",
       "      <th>7648</th>\n",
       "      <td>Bad Boys for Life</td>\n",
       "      <td>R</td>\n",
       "      <td>Action</td>\n",
       "      <td>2020</td>\n",
       "      <td>January 17, 2020 (United States)</td>\n",
       "      <td>6.6</td>\n",
       "      <td>140000.0</td>\n",
       "      <td>Adil El Arbi</td>\n",
       "      <td>Peter Craig</td>\n",
       "      <td>Will Smith</td>\n",
       "      <td>United States</td>\n",
       "      <td>90000000.0</td>\n",
       "      <td>426505244.0</td>\n",
       "      <td>Columbia Pictures</td>\n",
       "      <td>124.0</td>\n",
       "    </tr>\n",
       "    <tr>\n",
       "      <th>7649</th>\n",
       "      <td>Sonic the Hedgehog</td>\n",
       "      <td>PG</td>\n",
       "      <td>Action</td>\n",
       "      <td>2020</td>\n",
       "      <td>February 14, 2020 (United States)</td>\n",
       "      <td>6.5</td>\n",
       "      <td>102000.0</td>\n",
       "      <td>Jeff Fowler</td>\n",
       "      <td>Pat Casey</td>\n",
       "      <td>Ben Schwartz</td>\n",
       "      <td>United States</td>\n",
       "      <td>85000000.0</td>\n",
       "      <td>319715683.0</td>\n",
       "      <td>Paramount Pictures</td>\n",
       "      <td>99.0</td>\n",
       "    </tr>\n",
       "    <tr>\n",
       "      <th>7650</th>\n",
       "      <td>Dolittle</td>\n",
       "      <td>PG</td>\n",
       "      <td>Adventure</td>\n",
       "      <td>2020</td>\n",
       "      <td>January 17, 2020 (United States)</td>\n",
       "      <td>5.6</td>\n",
       "      <td>53000.0</td>\n",
       "      <td>Stephen Gaghan</td>\n",
       "      <td>Stephen Gaghan</td>\n",
       "      <td>Robert Downey Jr.</td>\n",
       "      <td>United States</td>\n",
       "      <td>175000000.0</td>\n",
       "      <td>245487753.0</td>\n",
       "      <td>Universal Pictures</td>\n",
       "      <td>101.0</td>\n",
       "    </tr>\n",
       "    <tr>\n",
       "      <th>7651</th>\n",
       "      <td>The Call of the Wild</td>\n",
       "      <td>PG</td>\n",
       "      <td>Adventure</td>\n",
       "      <td>2020</td>\n",
       "      <td>February 21, 2020 (United States)</td>\n",
       "      <td>6.8</td>\n",
       "      <td>42000.0</td>\n",
       "      <td>Chris Sanders</td>\n",
       "      <td>Michael Green</td>\n",
       "      <td>Harrison Ford</td>\n",
       "      <td>Canada</td>\n",
       "      <td>135000000.0</td>\n",
       "      <td>111105497.0</td>\n",
       "      <td>20th Century Studios</td>\n",
       "      <td>100.0</td>\n",
       "    </tr>\n",
       "    <tr>\n",
       "      <th>7652</th>\n",
       "      <td>The Eight Hundred</td>\n",
       "      <td>Not Rated</td>\n",
       "      <td>Action</td>\n",
       "      <td>2020</td>\n",
       "      <td>August 28, 2020 (United States)</td>\n",
       "      <td>6.8</td>\n",
       "      <td>3700.0</td>\n",
       "      <td>Hu Guan</td>\n",
       "      <td>Hu Guan</td>\n",
       "      <td>Zhi-zhong Huang</td>\n",
       "      <td>China</td>\n",
       "      <td>80000000.0</td>\n",
       "      <td>461421559.0</td>\n",
       "      <td>Beijing Diqi Yinxiang Entertainment</td>\n",
       "      <td>149.0</td>\n",
       "    </tr>\n",
       "  </tbody>\n",
       "</table>\n",
       "</div>"
      ],
      "text/plain": [
       "                      name     rating      genre  year  \\\n",
       "7648     Bad Boys for Life          R     Action  2020   \n",
       "7649    Sonic the Hedgehog         PG     Action  2020   \n",
       "7650              Dolittle         PG  Adventure  2020   \n",
       "7651  The Call of the Wild         PG  Adventure  2020   \n",
       "7652     The Eight Hundred  Not Rated     Action  2020   \n",
       "\n",
       "                               released  score     votes        director  \\\n",
       "7648   January 17, 2020 (United States)    6.6  140000.0    Adil El Arbi   \n",
       "7649  February 14, 2020 (United States)    6.5  102000.0     Jeff Fowler   \n",
       "7650   January 17, 2020 (United States)    5.6   53000.0  Stephen Gaghan   \n",
       "7651  February 21, 2020 (United States)    6.8   42000.0   Chris Sanders   \n",
       "7652    August 28, 2020 (United States)    6.8    3700.0         Hu Guan   \n",
       "\n",
       "              writer               star        country       budget  \\\n",
       "7648     Peter Craig         Will Smith  United States   90000000.0   \n",
       "7649       Pat Casey       Ben Schwartz  United States   85000000.0   \n",
       "7650  Stephen Gaghan  Robert Downey Jr.  United States  175000000.0   \n",
       "7651   Michael Green      Harrison Ford         Canada  135000000.0   \n",
       "7652         Hu Guan    Zhi-zhong Huang          China   80000000.0   \n",
       "\n",
       "            gross                              company  runtime  \n",
       "7648  426505244.0                    Columbia Pictures    124.0  \n",
       "7649  319715683.0                   Paramount Pictures     99.0  \n",
       "7650  245487753.0                   Universal Pictures    101.0  \n",
       "7651  111105497.0                 20th Century Studios    100.0  \n",
       "7652  461421559.0  Beijing Diqi Yinxiang Entertainment    149.0  "
      ]
     },
     "execution_count": 9,
     "metadata": {},
     "output_type": "execute_result"
    }
   ],
   "source": [
    "# get a look at the last 10 rows of the data\n",
    "# all recent movies that released during 2020\n",
    "movies_df.tail(5)"
   ]
  },
  {
   "cell_type": "markdown",
   "metadata": {},
   "source": [
    "## The 'released' column is a string object containing parentheses with the country the film was released in\n",
    "### - Will perform data-cleaning to isolate the date on its own and convert to a pandas datetime object"
   ]
  },
  {
   "cell_type": "code",
   "execution_count": 10,
   "metadata": {},
   "outputs": [
    {
     "data": {
      "text/plain": [
       "0           June 13, 1980 \n",
       "1            July 2, 1980 \n",
       "2           June 20, 1980 \n",
       "3            July 2, 1980 \n",
       "4           July 25, 1980 \n",
       "               ...        \n",
       "7648     January 17, 2020 \n",
       "7649    February 14, 2020 \n",
       "7650     January 17, 2020 \n",
       "7651    February 21, 2020 \n",
       "7652      August 28, 2020 \n",
       "Name: release, Length: 5421, dtype: object"
      ]
     },
     "execution_count": 10,
     "metadata": {},
     "output_type": "execute_result"
    }
   ],
   "source": [
    "# new column to remove the country of origin from the release date\n",
    "movies_df['release'] = movies_df['released'].str.split('(').str[0]\n",
    "movies_df['release']"
   ]
  },
  {
   "cell_type": "code",
   "execution_count": 11,
   "metadata": {},
   "outputs": [],
   "source": [
    "# create a new column called 'release_date' that will be stored as a datetime object\n",
    "movies_df['release_date'] = pd.to_datetime(movies_df['release'])"
   ]
  },
  {
   "cell_type": "code",
   "execution_count": 12,
   "metadata": {},
   "outputs": [],
   "source": [
    "# now drop the released and release columns since we have our release_date column stored as datetime objects\n",
    "movies_df.drop(['released', 'release'], axis=1, inplace=True)"
   ]
  },
  {
   "cell_type": "code",
   "execution_count": 13,
   "metadata": {},
   "outputs": [
    {
     "data": {
      "text/html": [
       "<div>\n",
       "<style scoped>\n",
       "    .dataframe tbody tr th:only-of-type {\n",
       "        vertical-align: middle;\n",
       "    }\n",
       "\n",
       "    .dataframe tbody tr th {\n",
       "        vertical-align: top;\n",
       "    }\n",
       "\n",
       "    .dataframe thead th {\n",
       "        text-align: right;\n",
       "    }\n",
       "</style>\n",
       "<table border=\"1\" class=\"dataframe\">\n",
       "  <thead>\n",
       "    <tr style=\"text-align: right;\">\n",
       "      <th></th>\n",
       "      <th>name</th>\n",
       "      <th>rating</th>\n",
       "      <th>genre</th>\n",
       "      <th>year</th>\n",
       "      <th>score</th>\n",
       "      <th>votes</th>\n",
       "      <th>director</th>\n",
       "      <th>writer</th>\n",
       "      <th>star</th>\n",
       "      <th>country</th>\n",
       "      <th>budget</th>\n",
       "      <th>gross</th>\n",
       "      <th>company</th>\n",
       "      <th>runtime</th>\n",
       "      <th>release_date</th>\n",
       "    </tr>\n",
       "  </thead>\n",
       "  <tbody>\n",
       "    <tr>\n",
       "      <th>0</th>\n",
       "      <td>The Shining</td>\n",
       "      <td>R</td>\n",
       "      <td>Drama</td>\n",
       "      <td>1980</td>\n",
       "      <td>8.4</td>\n",
       "      <td>927000.0</td>\n",
       "      <td>Stanley Kubrick</td>\n",
       "      <td>Stephen King</td>\n",
       "      <td>Jack Nicholson</td>\n",
       "      <td>United Kingdom</td>\n",
       "      <td>19000000.0</td>\n",
       "      <td>46998772.0</td>\n",
       "      <td>Warner Bros.</td>\n",
       "      <td>146.0</td>\n",
       "      <td>1980-06-13</td>\n",
       "    </tr>\n",
       "    <tr>\n",
       "      <th>1</th>\n",
       "      <td>The Blue Lagoon</td>\n",
       "      <td>R</td>\n",
       "      <td>Adventure</td>\n",
       "      <td>1980</td>\n",
       "      <td>5.8</td>\n",
       "      <td>65000.0</td>\n",
       "      <td>Randal Kleiser</td>\n",
       "      <td>Henry De Vere Stacpoole</td>\n",
       "      <td>Brooke Shields</td>\n",
       "      <td>United States</td>\n",
       "      <td>4500000.0</td>\n",
       "      <td>58853106.0</td>\n",
       "      <td>Columbia Pictures</td>\n",
       "      <td>104.0</td>\n",
       "      <td>1980-07-02</td>\n",
       "    </tr>\n",
       "    <tr>\n",
       "      <th>2</th>\n",
       "      <td>Star Wars: Episode V - The Empire Strikes Back</td>\n",
       "      <td>PG</td>\n",
       "      <td>Action</td>\n",
       "      <td>1980</td>\n",
       "      <td>8.7</td>\n",
       "      <td>1200000.0</td>\n",
       "      <td>Irvin Kershner</td>\n",
       "      <td>Leigh Brackett</td>\n",
       "      <td>Mark Hamill</td>\n",
       "      <td>United States</td>\n",
       "      <td>18000000.0</td>\n",
       "      <td>538375067.0</td>\n",
       "      <td>Lucasfilm</td>\n",
       "      <td>124.0</td>\n",
       "      <td>1980-06-20</td>\n",
       "    </tr>\n",
       "    <tr>\n",
       "      <th>3</th>\n",
       "      <td>Airplane!</td>\n",
       "      <td>PG</td>\n",
       "      <td>Comedy</td>\n",
       "      <td>1980</td>\n",
       "      <td>7.7</td>\n",
       "      <td>221000.0</td>\n",
       "      <td>Jim Abrahams</td>\n",
       "      <td>Jim Abrahams</td>\n",
       "      <td>Robert Hays</td>\n",
       "      <td>United States</td>\n",
       "      <td>3500000.0</td>\n",
       "      <td>83453539.0</td>\n",
       "      <td>Paramount Pictures</td>\n",
       "      <td>88.0</td>\n",
       "      <td>1980-07-02</td>\n",
       "    </tr>\n",
       "    <tr>\n",
       "      <th>4</th>\n",
       "      <td>Caddyshack</td>\n",
       "      <td>R</td>\n",
       "      <td>Comedy</td>\n",
       "      <td>1980</td>\n",
       "      <td>7.3</td>\n",
       "      <td>108000.0</td>\n",
       "      <td>Harold Ramis</td>\n",
       "      <td>Brian Doyle-Murray</td>\n",
       "      <td>Chevy Chase</td>\n",
       "      <td>United States</td>\n",
       "      <td>6000000.0</td>\n",
       "      <td>39846344.0</td>\n",
       "      <td>Orion Pictures</td>\n",
       "      <td>98.0</td>\n",
       "      <td>1980-07-25</td>\n",
       "    </tr>\n",
       "    <tr>\n",
       "      <th>...</th>\n",
       "      <td>...</td>\n",
       "      <td>...</td>\n",
       "      <td>...</td>\n",
       "      <td>...</td>\n",
       "      <td>...</td>\n",
       "      <td>...</td>\n",
       "      <td>...</td>\n",
       "      <td>...</td>\n",
       "      <td>...</td>\n",
       "      <td>...</td>\n",
       "      <td>...</td>\n",
       "      <td>...</td>\n",
       "      <td>...</td>\n",
       "      <td>...</td>\n",
       "      <td>...</td>\n",
       "    </tr>\n",
       "    <tr>\n",
       "      <th>7648</th>\n",
       "      <td>Bad Boys for Life</td>\n",
       "      <td>R</td>\n",
       "      <td>Action</td>\n",
       "      <td>2020</td>\n",
       "      <td>6.6</td>\n",
       "      <td>140000.0</td>\n",
       "      <td>Adil El Arbi</td>\n",
       "      <td>Peter Craig</td>\n",
       "      <td>Will Smith</td>\n",
       "      <td>United States</td>\n",
       "      <td>90000000.0</td>\n",
       "      <td>426505244.0</td>\n",
       "      <td>Columbia Pictures</td>\n",
       "      <td>124.0</td>\n",
       "      <td>2020-01-17</td>\n",
       "    </tr>\n",
       "    <tr>\n",
       "      <th>7649</th>\n",
       "      <td>Sonic the Hedgehog</td>\n",
       "      <td>PG</td>\n",
       "      <td>Action</td>\n",
       "      <td>2020</td>\n",
       "      <td>6.5</td>\n",
       "      <td>102000.0</td>\n",
       "      <td>Jeff Fowler</td>\n",
       "      <td>Pat Casey</td>\n",
       "      <td>Ben Schwartz</td>\n",
       "      <td>United States</td>\n",
       "      <td>85000000.0</td>\n",
       "      <td>319715683.0</td>\n",
       "      <td>Paramount Pictures</td>\n",
       "      <td>99.0</td>\n",
       "      <td>2020-02-14</td>\n",
       "    </tr>\n",
       "    <tr>\n",
       "      <th>7650</th>\n",
       "      <td>Dolittle</td>\n",
       "      <td>PG</td>\n",
       "      <td>Adventure</td>\n",
       "      <td>2020</td>\n",
       "      <td>5.6</td>\n",
       "      <td>53000.0</td>\n",
       "      <td>Stephen Gaghan</td>\n",
       "      <td>Stephen Gaghan</td>\n",
       "      <td>Robert Downey Jr.</td>\n",
       "      <td>United States</td>\n",
       "      <td>175000000.0</td>\n",
       "      <td>245487753.0</td>\n",
       "      <td>Universal Pictures</td>\n",
       "      <td>101.0</td>\n",
       "      <td>2020-01-17</td>\n",
       "    </tr>\n",
       "    <tr>\n",
       "      <th>7651</th>\n",
       "      <td>The Call of the Wild</td>\n",
       "      <td>PG</td>\n",
       "      <td>Adventure</td>\n",
       "      <td>2020</td>\n",
       "      <td>6.8</td>\n",
       "      <td>42000.0</td>\n",
       "      <td>Chris Sanders</td>\n",
       "      <td>Michael Green</td>\n",
       "      <td>Harrison Ford</td>\n",
       "      <td>Canada</td>\n",
       "      <td>135000000.0</td>\n",
       "      <td>111105497.0</td>\n",
       "      <td>20th Century Studios</td>\n",
       "      <td>100.0</td>\n",
       "      <td>2020-02-21</td>\n",
       "    </tr>\n",
       "    <tr>\n",
       "      <th>7652</th>\n",
       "      <td>The Eight Hundred</td>\n",
       "      <td>Not Rated</td>\n",
       "      <td>Action</td>\n",
       "      <td>2020</td>\n",
       "      <td>6.8</td>\n",
       "      <td>3700.0</td>\n",
       "      <td>Hu Guan</td>\n",
       "      <td>Hu Guan</td>\n",
       "      <td>Zhi-zhong Huang</td>\n",
       "      <td>China</td>\n",
       "      <td>80000000.0</td>\n",
       "      <td>461421559.0</td>\n",
       "      <td>Beijing Diqi Yinxiang Entertainment</td>\n",
       "      <td>149.0</td>\n",
       "      <td>2020-08-28</td>\n",
       "    </tr>\n",
       "  </tbody>\n",
       "</table>\n",
       "<p>5421 rows × 15 columns</p>\n",
       "</div>"
      ],
      "text/plain": [
       "                                                name     rating      genre  \\\n",
       "0                                        The Shining          R      Drama   \n",
       "1                                    The Blue Lagoon          R  Adventure   \n",
       "2     Star Wars: Episode V - The Empire Strikes Back         PG     Action   \n",
       "3                                          Airplane!         PG     Comedy   \n",
       "4                                         Caddyshack          R     Comedy   \n",
       "...                                              ...        ...        ...   \n",
       "7648                               Bad Boys for Life          R     Action   \n",
       "7649                              Sonic the Hedgehog         PG     Action   \n",
       "7650                                        Dolittle         PG  Adventure   \n",
       "7651                            The Call of the Wild         PG  Adventure   \n",
       "7652                               The Eight Hundred  Not Rated     Action   \n",
       "\n",
       "      year  score      votes         director                   writer  \\\n",
       "0     1980    8.4   927000.0  Stanley Kubrick             Stephen King   \n",
       "1     1980    5.8    65000.0   Randal Kleiser  Henry De Vere Stacpoole   \n",
       "2     1980    8.7  1200000.0   Irvin Kershner           Leigh Brackett   \n",
       "3     1980    7.7   221000.0     Jim Abrahams             Jim Abrahams   \n",
       "4     1980    7.3   108000.0     Harold Ramis       Brian Doyle-Murray   \n",
       "...    ...    ...        ...              ...                      ...   \n",
       "7648  2020    6.6   140000.0     Adil El Arbi              Peter Craig   \n",
       "7649  2020    6.5   102000.0      Jeff Fowler                Pat Casey   \n",
       "7650  2020    5.6    53000.0   Stephen Gaghan           Stephen Gaghan   \n",
       "7651  2020    6.8    42000.0    Chris Sanders            Michael Green   \n",
       "7652  2020    6.8     3700.0          Hu Guan                  Hu Guan   \n",
       "\n",
       "                   star         country       budget        gross  \\\n",
       "0        Jack Nicholson  United Kingdom   19000000.0   46998772.0   \n",
       "1        Brooke Shields   United States    4500000.0   58853106.0   \n",
       "2           Mark Hamill   United States   18000000.0  538375067.0   \n",
       "3           Robert Hays   United States    3500000.0   83453539.0   \n",
       "4           Chevy Chase   United States    6000000.0   39846344.0   \n",
       "...                 ...             ...          ...          ...   \n",
       "7648         Will Smith   United States   90000000.0  426505244.0   \n",
       "7649       Ben Schwartz   United States   85000000.0  319715683.0   \n",
       "7650  Robert Downey Jr.   United States  175000000.0  245487753.0   \n",
       "7651      Harrison Ford          Canada  135000000.0  111105497.0   \n",
       "7652    Zhi-zhong Huang           China   80000000.0  461421559.0   \n",
       "\n",
       "                                  company  runtime release_date  \n",
       "0                            Warner Bros.    146.0   1980-06-13  \n",
       "1                       Columbia Pictures    104.0   1980-07-02  \n",
       "2                               Lucasfilm    124.0   1980-06-20  \n",
       "3                      Paramount Pictures     88.0   1980-07-02  \n",
       "4                          Orion Pictures     98.0   1980-07-25  \n",
       "...                                   ...      ...          ...  \n",
       "7648                    Columbia Pictures    124.0   2020-01-17  \n",
       "7649                   Paramount Pictures     99.0   2020-02-14  \n",
       "7650                   Universal Pictures    101.0   2020-01-17  \n",
       "7651                 20th Century Studios    100.0   2020-02-21  \n",
       "7652  Beijing Diqi Yinxiang Entertainment    149.0   2020-08-28  \n",
       "\n",
       "[5421 rows x 15 columns]"
      ]
     },
     "execution_count": 13,
     "metadata": {},
     "output_type": "execute_result"
    }
   ],
   "source": [
    "# get a look at the movies_df now that we created a new release_date column\n",
    "movies_df"
   ]
  },
  {
   "cell_type": "markdown",
   "metadata": {},
   "source": [
    "## To get a chart of the average movie gross by month, I first have to create a month column. This 'month' column will be extracted from the recently created release_date column"
   ]
  },
  {
   "cell_type": "code",
   "execution_count": 14,
   "metadata": {},
   "outputs": [
    {
     "data": {
      "text/html": [
       "<div>\n",
       "<style scoped>\n",
       "    .dataframe tbody tr th:only-of-type {\n",
       "        vertical-align: middle;\n",
       "    }\n",
       "\n",
       "    .dataframe tbody tr th {\n",
       "        vertical-align: top;\n",
       "    }\n",
       "\n",
       "    .dataframe thead th {\n",
       "        text-align: right;\n",
       "    }\n",
       "</style>\n",
       "<table border=\"1\" class=\"dataframe\">\n",
       "  <thead>\n",
       "    <tr style=\"text-align: right;\">\n",
       "      <th></th>\n",
       "      <th>name</th>\n",
       "      <th>rating</th>\n",
       "      <th>genre</th>\n",
       "      <th>year</th>\n",
       "      <th>score</th>\n",
       "      <th>votes</th>\n",
       "      <th>director</th>\n",
       "      <th>writer</th>\n",
       "      <th>star</th>\n",
       "      <th>country</th>\n",
       "      <th>budget</th>\n",
       "      <th>gross</th>\n",
       "      <th>company</th>\n",
       "      <th>runtime</th>\n",
       "      <th>release_date</th>\n",
       "      <th>month</th>\n",
       "    </tr>\n",
       "  </thead>\n",
       "  <tbody>\n",
       "    <tr>\n",
       "      <th>0</th>\n",
       "      <td>The Shining</td>\n",
       "      <td>R</td>\n",
       "      <td>Drama</td>\n",
       "      <td>1980</td>\n",
       "      <td>8.4</td>\n",
       "      <td>927000.0</td>\n",
       "      <td>Stanley Kubrick</td>\n",
       "      <td>Stephen King</td>\n",
       "      <td>Jack Nicholson</td>\n",
       "      <td>United Kingdom</td>\n",
       "      <td>19000000.0</td>\n",
       "      <td>46998772.0</td>\n",
       "      <td>Warner Bros.</td>\n",
       "      <td>146.0</td>\n",
       "      <td>1980-06-13</td>\n",
       "      <td>6</td>\n",
       "    </tr>\n",
       "    <tr>\n",
       "      <th>1</th>\n",
       "      <td>The Blue Lagoon</td>\n",
       "      <td>R</td>\n",
       "      <td>Adventure</td>\n",
       "      <td>1980</td>\n",
       "      <td>5.8</td>\n",
       "      <td>65000.0</td>\n",
       "      <td>Randal Kleiser</td>\n",
       "      <td>Henry De Vere Stacpoole</td>\n",
       "      <td>Brooke Shields</td>\n",
       "      <td>United States</td>\n",
       "      <td>4500000.0</td>\n",
       "      <td>58853106.0</td>\n",
       "      <td>Columbia Pictures</td>\n",
       "      <td>104.0</td>\n",
       "      <td>1980-07-02</td>\n",
       "      <td>7</td>\n",
       "    </tr>\n",
       "    <tr>\n",
       "      <th>2</th>\n",
       "      <td>Star Wars: Episode V - The Empire Strikes Back</td>\n",
       "      <td>PG</td>\n",
       "      <td>Action</td>\n",
       "      <td>1980</td>\n",
       "      <td>8.7</td>\n",
       "      <td>1200000.0</td>\n",
       "      <td>Irvin Kershner</td>\n",
       "      <td>Leigh Brackett</td>\n",
       "      <td>Mark Hamill</td>\n",
       "      <td>United States</td>\n",
       "      <td>18000000.0</td>\n",
       "      <td>538375067.0</td>\n",
       "      <td>Lucasfilm</td>\n",
       "      <td>124.0</td>\n",
       "      <td>1980-06-20</td>\n",
       "      <td>6</td>\n",
       "    </tr>\n",
       "    <tr>\n",
       "      <th>3</th>\n",
       "      <td>Airplane!</td>\n",
       "      <td>PG</td>\n",
       "      <td>Comedy</td>\n",
       "      <td>1980</td>\n",
       "      <td>7.7</td>\n",
       "      <td>221000.0</td>\n",
       "      <td>Jim Abrahams</td>\n",
       "      <td>Jim Abrahams</td>\n",
       "      <td>Robert Hays</td>\n",
       "      <td>United States</td>\n",
       "      <td>3500000.0</td>\n",
       "      <td>83453539.0</td>\n",
       "      <td>Paramount Pictures</td>\n",
       "      <td>88.0</td>\n",
       "      <td>1980-07-02</td>\n",
       "      <td>7</td>\n",
       "    </tr>\n",
       "    <tr>\n",
       "      <th>4</th>\n",
       "      <td>Caddyshack</td>\n",
       "      <td>R</td>\n",
       "      <td>Comedy</td>\n",
       "      <td>1980</td>\n",
       "      <td>7.3</td>\n",
       "      <td>108000.0</td>\n",
       "      <td>Harold Ramis</td>\n",
       "      <td>Brian Doyle-Murray</td>\n",
       "      <td>Chevy Chase</td>\n",
       "      <td>United States</td>\n",
       "      <td>6000000.0</td>\n",
       "      <td>39846344.0</td>\n",
       "      <td>Orion Pictures</td>\n",
       "      <td>98.0</td>\n",
       "      <td>1980-07-25</td>\n",
       "      <td>7</td>\n",
       "    </tr>\n",
       "    <tr>\n",
       "      <th>...</th>\n",
       "      <td>...</td>\n",
       "      <td>...</td>\n",
       "      <td>...</td>\n",
       "      <td>...</td>\n",
       "      <td>...</td>\n",
       "      <td>...</td>\n",
       "      <td>...</td>\n",
       "      <td>...</td>\n",
       "      <td>...</td>\n",
       "      <td>...</td>\n",
       "      <td>...</td>\n",
       "      <td>...</td>\n",
       "      <td>...</td>\n",
       "      <td>...</td>\n",
       "      <td>...</td>\n",
       "      <td>...</td>\n",
       "    </tr>\n",
       "    <tr>\n",
       "      <th>7648</th>\n",
       "      <td>Bad Boys for Life</td>\n",
       "      <td>R</td>\n",
       "      <td>Action</td>\n",
       "      <td>2020</td>\n",
       "      <td>6.6</td>\n",
       "      <td>140000.0</td>\n",
       "      <td>Adil El Arbi</td>\n",
       "      <td>Peter Craig</td>\n",
       "      <td>Will Smith</td>\n",
       "      <td>United States</td>\n",
       "      <td>90000000.0</td>\n",
       "      <td>426505244.0</td>\n",
       "      <td>Columbia Pictures</td>\n",
       "      <td>124.0</td>\n",
       "      <td>2020-01-17</td>\n",
       "      <td>1</td>\n",
       "    </tr>\n",
       "    <tr>\n",
       "      <th>7649</th>\n",
       "      <td>Sonic the Hedgehog</td>\n",
       "      <td>PG</td>\n",
       "      <td>Action</td>\n",
       "      <td>2020</td>\n",
       "      <td>6.5</td>\n",
       "      <td>102000.0</td>\n",
       "      <td>Jeff Fowler</td>\n",
       "      <td>Pat Casey</td>\n",
       "      <td>Ben Schwartz</td>\n",
       "      <td>United States</td>\n",
       "      <td>85000000.0</td>\n",
       "      <td>319715683.0</td>\n",
       "      <td>Paramount Pictures</td>\n",
       "      <td>99.0</td>\n",
       "      <td>2020-02-14</td>\n",
       "      <td>2</td>\n",
       "    </tr>\n",
       "    <tr>\n",
       "      <th>7650</th>\n",
       "      <td>Dolittle</td>\n",
       "      <td>PG</td>\n",
       "      <td>Adventure</td>\n",
       "      <td>2020</td>\n",
       "      <td>5.6</td>\n",
       "      <td>53000.0</td>\n",
       "      <td>Stephen Gaghan</td>\n",
       "      <td>Stephen Gaghan</td>\n",
       "      <td>Robert Downey Jr.</td>\n",
       "      <td>United States</td>\n",
       "      <td>175000000.0</td>\n",
       "      <td>245487753.0</td>\n",
       "      <td>Universal Pictures</td>\n",
       "      <td>101.0</td>\n",
       "      <td>2020-01-17</td>\n",
       "      <td>1</td>\n",
       "    </tr>\n",
       "    <tr>\n",
       "      <th>7651</th>\n",
       "      <td>The Call of the Wild</td>\n",
       "      <td>PG</td>\n",
       "      <td>Adventure</td>\n",
       "      <td>2020</td>\n",
       "      <td>6.8</td>\n",
       "      <td>42000.0</td>\n",
       "      <td>Chris Sanders</td>\n",
       "      <td>Michael Green</td>\n",
       "      <td>Harrison Ford</td>\n",
       "      <td>Canada</td>\n",
       "      <td>135000000.0</td>\n",
       "      <td>111105497.0</td>\n",
       "      <td>20th Century Studios</td>\n",
       "      <td>100.0</td>\n",
       "      <td>2020-02-21</td>\n",
       "      <td>2</td>\n",
       "    </tr>\n",
       "    <tr>\n",
       "      <th>7652</th>\n",
       "      <td>The Eight Hundred</td>\n",
       "      <td>Not Rated</td>\n",
       "      <td>Action</td>\n",
       "      <td>2020</td>\n",
       "      <td>6.8</td>\n",
       "      <td>3700.0</td>\n",
       "      <td>Hu Guan</td>\n",
       "      <td>Hu Guan</td>\n",
       "      <td>Zhi-zhong Huang</td>\n",
       "      <td>China</td>\n",
       "      <td>80000000.0</td>\n",
       "      <td>461421559.0</td>\n",
       "      <td>Beijing Diqi Yinxiang Entertainment</td>\n",
       "      <td>149.0</td>\n",
       "      <td>2020-08-28</td>\n",
       "      <td>8</td>\n",
       "    </tr>\n",
       "  </tbody>\n",
       "</table>\n",
       "<p>5421 rows × 16 columns</p>\n",
       "</div>"
      ],
      "text/plain": [
       "                                                name     rating      genre  \\\n",
       "0                                        The Shining          R      Drama   \n",
       "1                                    The Blue Lagoon          R  Adventure   \n",
       "2     Star Wars: Episode V - The Empire Strikes Back         PG     Action   \n",
       "3                                          Airplane!         PG     Comedy   \n",
       "4                                         Caddyshack          R     Comedy   \n",
       "...                                              ...        ...        ...   \n",
       "7648                               Bad Boys for Life          R     Action   \n",
       "7649                              Sonic the Hedgehog         PG     Action   \n",
       "7650                                        Dolittle         PG  Adventure   \n",
       "7651                            The Call of the Wild         PG  Adventure   \n",
       "7652                               The Eight Hundred  Not Rated     Action   \n",
       "\n",
       "      year  score      votes         director                   writer  \\\n",
       "0     1980    8.4   927000.0  Stanley Kubrick             Stephen King   \n",
       "1     1980    5.8    65000.0   Randal Kleiser  Henry De Vere Stacpoole   \n",
       "2     1980    8.7  1200000.0   Irvin Kershner           Leigh Brackett   \n",
       "3     1980    7.7   221000.0     Jim Abrahams             Jim Abrahams   \n",
       "4     1980    7.3   108000.0     Harold Ramis       Brian Doyle-Murray   \n",
       "...    ...    ...        ...              ...                      ...   \n",
       "7648  2020    6.6   140000.0     Adil El Arbi              Peter Craig   \n",
       "7649  2020    6.5   102000.0      Jeff Fowler                Pat Casey   \n",
       "7650  2020    5.6    53000.0   Stephen Gaghan           Stephen Gaghan   \n",
       "7651  2020    6.8    42000.0    Chris Sanders            Michael Green   \n",
       "7652  2020    6.8     3700.0          Hu Guan                  Hu Guan   \n",
       "\n",
       "                   star         country       budget        gross  \\\n",
       "0        Jack Nicholson  United Kingdom   19000000.0   46998772.0   \n",
       "1        Brooke Shields   United States    4500000.0   58853106.0   \n",
       "2           Mark Hamill   United States   18000000.0  538375067.0   \n",
       "3           Robert Hays   United States    3500000.0   83453539.0   \n",
       "4           Chevy Chase   United States    6000000.0   39846344.0   \n",
       "...                 ...             ...          ...          ...   \n",
       "7648         Will Smith   United States   90000000.0  426505244.0   \n",
       "7649       Ben Schwartz   United States   85000000.0  319715683.0   \n",
       "7650  Robert Downey Jr.   United States  175000000.0  245487753.0   \n",
       "7651      Harrison Ford          Canada  135000000.0  111105497.0   \n",
       "7652    Zhi-zhong Huang           China   80000000.0  461421559.0   \n",
       "\n",
       "                                  company  runtime release_date  month  \n",
       "0                            Warner Bros.    146.0   1980-06-13      6  \n",
       "1                       Columbia Pictures    104.0   1980-07-02      7  \n",
       "2                               Lucasfilm    124.0   1980-06-20      6  \n",
       "3                      Paramount Pictures     88.0   1980-07-02      7  \n",
       "4                          Orion Pictures     98.0   1980-07-25      7  \n",
       "...                                   ...      ...          ...    ...  \n",
       "7648                    Columbia Pictures    124.0   2020-01-17      1  \n",
       "7649                   Paramount Pictures     99.0   2020-02-14      2  \n",
       "7650                   Universal Pictures    101.0   2020-01-17      1  \n",
       "7651                 20th Century Studios    100.0   2020-02-21      2  \n",
       "7652  Beijing Diqi Yinxiang Entertainment    149.0   2020-08-28      8  \n",
       "\n",
       "[5421 rows x 16 columns]"
      ]
     },
     "execution_count": 14,
     "metadata": {},
     "output_type": "execute_result"
    }
   ],
   "source": [
    "# create a month column \n",
    "movies_df['month'] = movies_df['release_date'].dt.month\n",
    "movies_df"
   ]
  },
  {
   "cell_type": "code",
   "execution_count": 15,
   "metadata": {},
   "outputs": [],
   "source": [
    "# create a condensed dataframe that will be used to hold the release month of every film\n",
    "month_release = movies_df['release_date'].dt.month\n",
    "month_release = pd.DataFrame(month_release)"
   ]
  },
  {
   "cell_type": "code",
   "execution_count": 16,
   "metadata": {},
   "outputs": [
    {
     "data": {
      "text/html": [
       "<div>\n",
       "<style scoped>\n",
       "    .dataframe tbody tr th:only-of-type {\n",
       "        vertical-align: middle;\n",
       "    }\n",
       "\n",
       "    .dataframe tbody tr th {\n",
       "        vertical-align: top;\n",
       "    }\n",
       "\n",
       "    .dataframe thead th {\n",
       "        text-align: right;\n",
       "    }\n",
       "</style>\n",
       "<table border=\"1\" class=\"dataframe\">\n",
       "  <thead>\n",
       "    <tr style=\"text-align: right;\">\n",
       "      <th></th>\n",
       "      <th>release_date</th>\n",
       "    </tr>\n",
       "  </thead>\n",
       "  <tbody>\n",
       "    <tr>\n",
       "      <th>0</th>\n",
       "      <td>6</td>\n",
       "    </tr>\n",
       "    <tr>\n",
       "      <th>1</th>\n",
       "      <td>7</td>\n",
       "    </tr>\n",
       "    <tr>\n",
       "      <th>2</th>\n",
       "      <td>6</td>\n",
       "    </tr>\n",
       "    <tr>\n",
       "      <th>3</th>\n",
       "      <td>7</td>\n",
       "    </tr>\n",
       "    <tr>\n",
       "      <th>4</th>\n",
       "      <td>7</td>\n",
       "    </tr>\n",
       "    <tr>\n",
       "      <th>...</th>\n",
       "      <td>...</td>\n",
       "    </tr>\n",
       "    <tr>\n",
       "      <th>7648</th>\n",
       "      <td>1</td>\n",
       "    </tr>\n",
       "    <tr>\n",
       "      <th>7649</th>\n",
       "      <td>2</td>\n",
       "    </tr>\n",
       "    <tr>\n",
       "      <th>7650</th>\n",
       "      <td>1</td>\n",
       "    </tr>\n",
       "    <tr>\n",
       "      <th>7651</th>\n",
       "      <td>2</td>\n",
       "    </tr>\n",
       "    <tr>\n",
       "      <th>7652</th>\n",
       "      <td>8</td>\n",
       "    </tr>\n",
       "  </tbody>\n",
       "</table>\n",
       "<p>5421 rows × 1 columns</p>\n",
       "</div>"
      ],
      "text/plain": [
       "      release_date\n",
       "0                6\n",
       "1                7\n",
       "2                6\n",
       "3                7\n",
       "4                7\n",
       "...            ...\n",
       "7648             1\n",
       "7649             2\n",
       "7650             1\n",
       "7651             2\n",
       "7652             8\n",
       "\n",
       "[5421 rows x 1 columns]"
      ]
     },
     "execution_count": 16,
     "metadata": {},
     "output_type": "execute_result"
    }
   ],
   "source": [
    "month_release"
   ]
  },
  {
   "cell_type": "code",
   "execution_count": 17,
   "metadata": {},
   "outputs": [
    {
     "data": {
      "text/html": [
       "<div>\n",
       "<style scoped>\n",
       "    .dataframe tbody tr th:only-of-type {\n",
       "        vertical-align: middle;\n",
       "    }\n",
       "\n",
       "    .dataframe tbody tr th {\n",
       "        vertical-align: top;\n",
       "    }\n",
       "\n",
       "    .dataframe thead th {\n",
       "        text-align: right;\n",
       "    }\n",
       "</style>\n",
       "<table border=\"1\" class=\"dataframe\">\n",
       "  <thead>\n",
       "    <tr style=\"text-align: right;\">\n",
       "      <th></th>\n",
       "      <th>release_date</th>\n",
       "      <th>gross</th>\n",
       "    </tr>\n",
       "  </thead>\n",
       "  <tbody>\n",
       "    <tr>\n",
       "      <th>0</th>\n",
       "      <td>6</td>\n",
       "      <td>46998772.0</td>\n",
       "    </tr>\n",
       "    <tr>\n",
       "      <th>1</th>\n",
       "      <td>7</td>\n",
       "      <td>58853106.0</td>\n",
       "    </tr>\n",
       "    <tr>\n",
       "      <th>2</th>\n",
       "      <td>6</td>\n",
       "      <td>538375067.0</td>\n",
       "    </tr>\n",
       "    <tr>\n",
       "      <th>3</th>\n",
       "      <td>7</td>\n",
       "      <td>83453539.0</td>\n",
       "    </tr>\n",
       "    <tr>\n",
       "      <th>4</th>\n",
       "      <td>7</td>\n",
       "      <td>39846344.0</td>\n",
       "    </tr>\n",
       "    <tr>\n",
       "      <th>...</th>\n",
       "      <td>...</td>\n",
       "      <td>...</td>\n",
       "    </tr>\n",
       "    <tr>\n",
       "      <th>7648</th>\n",
       "      <td>1</td>\n",
       "      <td>426505244.0</td>\n",
       "    </tr>\n",
       "    <tr>\n",
       "      <th>7649</th>\n",
       "      <td>2</td>\n",
       "      <td>319715683.0</td>\n",
       "    </tr>\n",
       "    <tr>\n",
       "      <th>7650</th>\n",
       "      <td>1</td>\n",
       "      <td>245487753.0</td>\n",
       "    </tr>\n",
       "    <tr>\n",
       "      <th>7651</th>\n",
       "      <td>2</td>\n",
       "      <td>111105497.0</td>\n",
       "    </tr>\n",
       "    <tr>\n",
       "      <th>7652</th>\n",
       "      <td>8</td>\n",
       "      <td>461421559.0</td>\n",
       "    </tr>\n",
       "  </tbody>\n",
       "</table>\n",
       "<p>5421 rows × 2 columns</p>\n",
       "</div>"
      ],
      "text/plain": [
       "      release_date        gross\n",
       "0                6   46998772.0\n",
       "1                7   58853106.0\n",
       "2                6  538375067.0\n",
       "3                7   83453539.0\n",
       "4                7   39846344.0\n",
       "...            ...          ...\n",
       "7648             1  426505244.0\n",
       "7649             2  319715683.0\n",
       "7650             1  245487753.0\n",
       "7651             2  111105497.0\n",
       "7652             8  461421559.0\n",
       "\n",
       "[5421 rows x 2 columns]"
      ]
     },
     "execution_count": 17,
     "metadata": {},
     "output_type": "execute_result"
    }
   ],
   "source": [
    "# create a 'gross' column in our condensed dataframe\n",
    "# the 'gross' column will be the same as the original 'gross' column from the movies_df\n",
    "month_release['gross'] = movies_df['gross']\n",
    "month_release"
   ]
  },
  {
   "cell_type": "code",
   "execution_count": 18,
   "metadata": {},
   "outputs": [
    {
     "data": {
      "text/html": [
       "<div>\n",
       "<style scoped>\n",
       "    .dataframe tbody tr th:only-of-type {\n",
       "        vertical-align: middle;\n",
       "    }\n",
       "\n",
       "    .dataframe tbody tr th {\n",
       "        vertical-align: top;\n",
       "    }\n",
       "\n",
       "    .dataframe thead th {\n",
       "        text-align: right;\n",
       "    }\n",
       "</style>\n",
       "<table border=\"1\" class=\"dataframe\">\n",
       "  <thead>\n",
       "    <tr style=\"text-align: right;\">\n",
       "      <th></th>\n",
       "      <th>gross</th>\n",
       "    </tr>\n",
       "    <tr>\n",
       "      <th>release_date</th>\n",
       "      <th></th>\n",
       "    </tr>\n",
       "  </thead>\n",
       "  <tbody>\n",
       "    <tr>\n",
       "      <th>1</th>\n",
       "      <td>6.263414e+07</td>\n",
       "    </tr>\n",
       "    <tr>\n",
       "      <th>2</th>\n",
       "      <td>7.407725e+07</td>\n",
       "    </tr>\n",
       "    <tr>\n",
       "      <th>3</th>\n",
       "      <td>8.771098e+07</td>\n",
       "    </tr>\n",
       "    <tr>\n",
       "      <th>4</th>\n",
       "      <td>7.240579e+07</td>\n",
       "    </tr>\n",
       "    <tr>\n",
       "      <th>5</th>\n",
       "      <td>1.697053e+08</td>\n",
       "    </tr>\n",
       "    <tr>\n",
       "      <th>6</th>\n",
       "      <td>1.672293e+08</td>\n",
       "    </tr>\n",
       "    <tr>\n",
       "      <th>7</th>\n",
       "      <td>1.519452e+08</td>\n",
       "    </tr>\n",
       "    <tr>\n",
       "      <th>8</th>\n",
       "      <td>6.736884e+07</td>\n",
       "    </tr>\n",
       "    <tr>\n",
       "      <th>9</th>\n",
       "      <td>5.390261e+07</td>\n",
       "    </tr>\n",
       "    <tr>\n",
       "      <th>10</th>\n",
       "      <td>5.996056e+07</td>\n",
       "    </tr>\n",
       "    <tr>\n",
       "      <th>11</th>\n",
       "      <td>1.333690e+08</td>\n",
       "    </tr>\n",
       "    <tr>\n",
       "      <th>12</th>\n",
       "      <td>1.544489e+08</td>\n",
       "    </tr>\n",
       "  </tbody>\n",
       "</table>\n",
       "</div>"
      ],
      "text/plain": [
       "                     gross\n",
       "release_date              \n",
       "1             6.263414e+07\n",
       "2             7.407725e+07\n",
       "3             8.771098e+07\n",
       "4             7.240579e+07\n",
       "5             1.697053e+08\n",
       "6             1.672293e+08\n",
       "7             1.519452e+08\n",
       "8             6.736884e+07\n",
       "9             5.390261e+07\n",
       "10            5.996056e+07\n",
       "11            1.333690e+08\n",
       "12            1.544489e+08"
      ]
     },
     "execution_count": 18,
     "metadata": {},
     "output_type": "execute_result"
    }
   ],
   "source": [
    "# use groupby method to get the average 'gross' by each month\n",
    "mean_revenue = month_release.groupby('release_date').mean()\n",
    "mean_revenue"
   ]
  },
  {
   "cell_type": "markdown",
   "metadata": {},
   "source": [
    "# Visualizations"
   ]
  },
  {
   "cell_type": "markdown",
   "metadata": {},
   "source": [
    "## Production budget vs. Gross"
   ]
  },
  {
   "cell_type": "code",
   "execution_count": 19,
   "metadata": {},
   "outputs": [
    {
     "data": {
      "text/plain": [
       "Text(0, 0.5, 'Gross (in hundreds of millions)')"
      ]
     },
     "execution_count": 19,
     "metadata": {},
     "output_type": "execute_result"
    },
    {
     "data": {
      "image/png": "[encoded data removed]",
      "text/plain": [
       "<Figure size 864x576 with 1 Axes>"
      ]
     },
     "metadata": {
      "needs_background": "light"
     },
     "output_type": "display_data"
    }
   ],
   "source": [
    "# using a regression plot to analyze relationship between production budget and gross\n",
    "plt.figure(figsize=(12,8))\n",
    "\n",
    "# use seaborn to create the regression plot\n",
    "sns.regplot(x=movies_df['budget'],y=movies_df['gross'],color='g')\n",
    "\n",
    "# add title and axes labels\n",
    "plt.title('Relationship between Production Budget & Gross', fontsize=16)\n",
    "plt.xlabel('Budget (in hundreds of millions)', fontsize=15)\n",
    "plt.ylabel('Gross (in hundreds of millions)', fontsize=15)"
   ]
  },
  {
   "cell_type": "markdown",
   "metadata": {},
   "source": [
    "## Runtime vs. Gross"
   ]
  },
  {
   "cell_type": "code",
   "execution_count": 20,
   "metadata": {
    "scrolled": false
   },
   "outputs": [
    {
     "data": {
      "image/png": "[encoded data removed]",
      "text/plain": [
       "<Figure size 1008x576 with 1 Axes>"
      ]
     },
     "metadata": {
      "needs_background": "light"
     },
     "output_type": "display_data"
    }
   ],
   "source": [
    "# create a lineplot using seaborn to visualize relationship between runtime of a movie and gross of a movie\n",
    "plt.figure(figsize=(14, 8))\n",
    "sns.lineplot(x=movies_df['runtime'],y=movies_df['gross'], ci=None)\n",
    "\n",
    "# title and axes labels\n",
    "sns.set_style('dark')\n",
    "plt.title('Runtime vs. Gross', fontsize=20)\n",
    "plt.xlabel('Runtime (in minutes)', fontsize=15)\n",
    "plt.ylabel('Gross (in hundereds of millions)', fontsize=15)\n",
    "\n",
    "#plt.savefig('Runtime_Gross.png')\n",
    "plt.show()"
   ]
  },
  {
   "cell_type": "markdown",
   "metadata": {},
   "source": [
    "## Animation Runtime vs. Gross"
   ]
  },
  {
   "cell_type": "code",
   "execution_count": 21,
   "metadata": {},
   "outputs": [
    {
     "data": {
      "image/png": "[encoded data removed]",
      "text/plain": [
       "<Figure size 1008x576 with 1 Axes>"
      ]
     },
     "metadata": {},
     "output_type": "display_data"
    }
   ],
   "source": [
    "# create a lineplot using seaborn to visualize relationship between runtime of an animation movie and gross of a movie\n",
    "plt.figure(figsize=(14, 8))\n",
    "sns.lineplot(x=movies_df[movies_df['genre']=='Animation']['runtime'],y=movies_df[movies_df['genre']=='Animation']['gross'],ci=None)\n",
    "\n",
    "# title and axes labels\n",
    "sns.set_style('dark')\n",
    "plt.title('Animation Movie Runtime vs. Gross', fontsize=20)\n",
    "plt.xlabel('Runtime (in minutes)', fontsize=15)\n",
    "plt.ylabel('Gross (in hundereds of millions)', fontsize=15)\n",
    "plt.show()"
   ]
  },
  {
   "cell_type": "markdown",
   "metadata": {},
   "source": [
    "## Distribution of Runtime"
   ]
  },
  {
   "cell_type": "code",
   "execution_count": 22,
   "metadata": {},
   "outputs": [
    {
     "name": "stderr",
     "output_type": "stream",
     "text": [
      "/opt/anaconda3/envs/learn-env/lib/python3.8/site-packages/seaborn/distributions.py:2551: FutureWarning: `distplot` is a deprecated function and will be removed in a future version. Please adapt your code to use either `displot` (a figure-level function with similar flexibility) or `histplot` (an axes-level function for histograms).\n",
      "  warnings.warn(msg, FutureWarning)\n"
     ]
    },
    {
     "data": {
      "image/png": "[encoded data removed]",
      "text/plain": [
       "<Figure size 720x720 with 1 Axes>"
      ]
     },
     "metadata": {},
     "output_type": "display_data"
    }
   ],
   "source": [
    "# distribution plot to visualize the movies by runtime (in minutes)\n",
    "plt.figure(figsize=(10,10))\n",
    "movie_runs = sns.distplot(movies_df['runtime'], kde=False, bins=25)\n",
    "\n",
    "movie_runs.set_xlim(50, 250, 25)\n",
    "# add title and axes labels\n",
    "plt.title('Distribution of Movie Runtimes', fontsize=20)\n",
    "plt.xlabel('Runtime (in minutes)', fontsize=15)\n",
    "plt.ylabel('Number of movies', fontsize=15)\n",
    "\n",
    "#plt.savefig('RuntimeDistribution.png')\n",
    "plt.show()"
   ]
  },
  {
   "cell_type": "markdown",
   "metadata": {},
   "source": [
    "## Distribution of Runtime for Animation Movies"
   ]
  },
  {
   "cell_type": "code",
   "execution_count": 40,
   "metadata": {},
   "outputs": [
    {
     "data": {
      "image/png": "[encoded data removed]",
      "text/plain": [
       "<Figure size 720x720 with 1 Axes>"
      ]
     },
     "metadata": {},
     "output_type": "display_data"
    }
   ],
   "source": [
    "# distribution plot to visualize the animation movies by runtime (in minutes)\n",
    "plt.figure(figsize=(10,10))\n",
    "animation = sns.distplot(movies_df[movies_df['genre']=='Animation']['runtime'], kde=False, bins=15)\n",
    "\n",
    "animation.set_xlim(50, 200)\n",
    "# add title and axes labels\n",
    "plt.title('Distribution of Animation Movie Runtimes', fontsize=20)\n",
    "plt.xlabel('Runtime (in minutes)', fontsize=15)\n",
    "plt.ylabel('Number of movies', fontsize=15)\n",
    "\n",
    "# save image\n",
    "#plt.savefig('Graphs/animation_distribution.png')\n",
    "plt.show()"
   ]
  },
  {
   "cell_type": "markdown",
   "metadata": {},
   "source": [
    "## Distribution of Runtime for Adventure Movies"
   ]
  },
  {
   "cell_type": "code",
   "execution_count": 41,
   "metadata": {},
   "outputs": [
    {
     "data": {
      "image/png": "[encoded data removed]",
      "text/plain": [
       "<Figure size 720x720 with 1 Axes>"
      ]
     },
     "metadata": {},
     "output_type": "display_data"
    }
   ],
   "source": [
    "# distribution plot to visualize the adventure movies by runtime (in minutes)\n",
    "plt.figure(figsize=(10,10))\n",
    "adventure = sns.distplot(movies_df[movies_df['genre']=='Adventure']['runtime'], kde=False, bins=20)\n",
    "adventure.set_xlim(50, 200)\n",
    "# add title and axes labels\n",
    "plt.title('Distribution of Adventure Movie Runtimes', fontsize=20)\n",
    "plt.xlabel('Runtime (in minutes)', fontsize=15)\n",
    "plt.ylabel('Number of movies', fontsize=15)\n",
    "\n",
    "# save image\n",
    "#plt.savefig('Graphs/adventure_distribution.png')\n",
    "plt.show()"
   ]
  },
  {
   "cell_type": "markdown",
   "metadata": {},
   "source": [
    "## Distribution of Runtime for Action Movies"
   ]
  },
  {
   "cell_type": "code",
   "execution_count": 42,
   "metadata": {},
   "outputs": [
    {
     "data": {
      "image/png": "[encoded data removed]",
      "text/plain": [
       "<Figure size 720x720 with 1 Axes>"
      ]
     },
     "metadata": {},
     "output_type": "display_data"
    }
   ],
   "source": [
    "# distribution plot to visualize the animation movies by runtime (in minutes)\n",
    "plt.figure(figsize=(10,10))\n",
    "action = sns.distplot(movies_df[movies_df['genre']=='Action']['runtime'], kde=False, bins=20)\n",
    "action.set_xlim(50,200)\n",
    "# add title and axes labels\n",
    "plt.title('Distribution of Action Movie Runtimes', fontsize=20)\n",
    "plt.xlabel('Runtime (in minutes)', fontsize=15)\n",
    "plt.ylabel('Number of movies', fontsize=15)\n",
    "\n",
    "# save fig\n",
    "plt.savefig('Graphs/action_distribution.png')\n",
    "plt.show()"
   ]
  },
  {
   "cell_type": "markdown",
   "metadata": {},
   "source": [
    "## Genres by Avg. Gross"
   ]
  },
  {
   "cell_type": "code",
   "execution_count": 26,
   "metadata": {
    "scrolled": true
   },
   "outputs": [
    {
     "data": {
      "text/plain": [
       "Comedy       1496\n",
       "Action       1415\n",
       "Drama         863\n",
       "Crime         399\n",
       "Adventure     327\n",
       "Biography     311\n",
       "Animation     277\n",
       "Horror        251\n",
       "Fantasy        41\n",
       "Mystery        17\n",
       "Thriller        7\n",
       "Sci-Fi          6\n",
       "Romance         5\n",
       "Family          4\n",
       "Western         2\n",
       "Name: genre, dtype: int64"
      ]
     },
     "execution_count": 26,
     "metadata": {},
     "output_type": "execute_result"
    }
   ],
   "source": [
    "# check the value counts of each genre\n",
    "# genres with less than 10 movies may be misleading on a visualization\n",
    "movies_df['genre'].value_counts()"
   ]
  },
  {
   "cell_type": "code",
   "execution_count": 27,
   "metadata": {
    "scrolled": true
   },
   "outputs": [
    {
     "data": {
      "text/plain": [
       "genre\n",
       "Animation    2.811044e+08\n",
       "Action       1.680232e+08\n",
       "Adventure    1.332682e+08\n",
       "Mystery      1.178877e+08\n",
       "Biography    6.139527e+07\n",
       "Drama        6.036914e+07\n",
       "Comedy       5.916766e+07\n",
       "Horror       5.681695e+07\n",
       "Crime        5.016958e+07\n",
       "Thriller     4.248814e+07\n",
       "Fantasy      3.987870e+07\n",
       "Sci-Fi       3.761010e+07\n",
       "Romance      3.357538e+07\n",
       "Western      1.001294e+07\n",
       "Name: mean, dtype: float64"
      ]
     },
     "execution_count": 27,
     "metadata": {},
     "output_type": "execute_result"
    }
   ],
   "source": [
    "# group the dataset by genre and store into a separate variable\n",
    "genre_groupby = movies_df.groupby('genre')\n",
    "genre_groupby = genre_groupby.describe()['gross'].sort_values('mean', ascending=False)['mean'][1:]\n",
    "genre_groupby"
   ]
  },
  {
   "cell_type": "code",
   "execution_count": 28,
   "metadata": {},
   "outputs": [
    {
     "data": {
      "text/plain": [
       "Index(['Animation', 'Action', 'Adventure', 'Mystery', 'Biography', 'Drama',\n",
       "       'Comedy', 'Horror', 'Crime', 'Thriller', 'Fantasy'],\n",
       "      dtype='object', name='genre')"
      ]
     },
     "execution_count": 28,
     "metadata": {},
     "output_type": "execute_result"
    }
   ],
   "source": [
    "x = genre_groupby.index[:11]\n",
    "x"
   ]
  },
  {
   "cell_type": "code",
   "execution_count": 29,
   "metadata": {},
   "outputs": [
    {
     "data": {
      "text/plain": [
       "array([2.81104365e+08, 1.68023229e+08, 1.33268232e+08, 1.17887733e+08,\n",
       "       6.13952743e+07, 6.03691365e+07, 5.91676588e+07, 5.68169523e+07,\n",
       "       5.01695794e+07, 4.24881411e+07, 3.98786978e+07])"
      ]
     },
     "execution_count": 29,
     "metadata": {},
     "output_type": "execute_result"
    }
   ],
   "source": [
    "y = genre_groupby.values[:11]\n",
    "y"
   ]
  },
  {
   "cell_type": "code",
   "execution_count": 30,
   "metadata": {},
   "outputs": [
    {
     "data": {
      "text/plain": [
       "11"
      ]
     },
     "execution_count": 30,
     "metadata": {},
     "output_type": "execute_result"
    }
   ],
   "source": [
    "# check the length of x to make sure they match for the barchart\n",
    "len(x)"
   ]
  },
  {
   "cell_type": "code",
   "execution_count": 31,
   "metadata": {},
   "outputs": [
    {
     "data": {
      "text/plain": [
       "11"
      ]
     },
     "execution_count": 31,
     "metadata": {},
     "output_type": "execute_result"
    }
   ],
   "source": [
    "# check the length of y to make sure they match the barchart\n",
    "len(y)"
   ]
  },
  {
   "cell_type": "code",
   "execution_count": 32,
   "metadata": {},
   "outputs": [
    {
     "data": {
      "text/plain": [
       "'Thriller'"
      ]
     },
     "execution_count": 32,
     "metadata": {},
     "output_type": "execute_result"
    }
   ],
   "source": [
    "# delete the thriller and its value from both lists because it only has 7 movies in dataset\n",
    "x = list(x)\n",
    "x.pop(-2)"
   ]
  },
  {
   "cell_type": "code",
   "execution_count": 33,
   "metadata": {},
   "outputs": [
    {
     "data": {
      "text/plain": [
       "10"
      ]
     },
     "execution_count": 33,
     "metadata": {},
     "output_type": "execute_result"
    }
   ],
   "source": [
    "len(x)"
   ]
  },
  {
   "cell_type": "code",
   "execution_count": 34,
   "metadata": {},
   "outputs": [
    {
     "data": {
      "text/plain": [
       "42488141.14285714"
      ]
     },
     "execution_count": 34,
     "metadata": {},
     "output_type": "execute_result"
    }
   ],
   "source": [
    "# do the same for y\n",
    "y = list(y)\n",
    "y.pop(-2)"
   ]
  },
  {
   "cell_type": "code",
   "execution_count": 35,
   "metadata": {},
   "outputs": [
    {
     "data": {
      "text/plain": [
       "10"
      ]
     },
     "execution_count": 35,
     "metadata": {},
     "output_type": "execute_result"
    }
   ],
   "source": [
    "len(y)"
   ]
  },
  {
   "cell_type": "code",
   "execution_count": 1,
   "metadata": {},
   "outputs": [
    {
     "ename": "NameError",
     "evalue": "name 'plt' is not defined",
     "output_type": "error",
     "traceback": [
      "\u001b[0;31m---------------------------------------------------------------------------\u001b[0m",
      "\u001b[0;31mNameError\u001b[0m                                 Traceback (most recent call last)",
      "\u001b[0;32m<ipython-input-1-90d84b739c30>\u001b[0m in \u001b[0;36m<module>\u001b[0;34m\u001b[0m\n\u001b[1;32m      1\u001b[0m \u001b[0;31m# barchart to show avg. gross by genre\u001b[0m\u001b[0;34m\u001b[0m\u001b[0;34m\u001b[0m\u001b[0;34m\u001b[0m\u001b[0m\n\u001b[1;32m      2\u001b[0m \u001b[0;31m# using seaborn module\u001b[0m\u001b[0;34m\u001b[0m\u001b[0;34m\u001b[0m\u001b[0;34m\u001b[0m\u001b[0m\n\u001b[0;32m----> 3\u001b[0;31m \u001b[0mplt\u001b[0m\u001b[0;34m.\u001b[0m\u001b[0mfigure\u001b[0m\u001b[0;34m(\u001b[0m\u001b[0mfigsize\u001b[0m\u001b[0;34m=\u001b[0m\u001b[0;34m(\u001b[0m\u001b[0;36m15\u001b[0m\u001b[0;34m,\u001b[0m\u001b[0;36m7\u001b[0m\u001b[0;34m)\u001b[0m\u001b[0;34m)\u001b[0m\u001b[0;34m\u001b[0m\u001b[0;34m\u001b[0m\u001b[0m\n\u001b[0m\u001b[1;32m      4\u001b[0m \u001b[0msns\u001b[0m\u001b[0;34m.\u001b[0m\u001b[0mbarplot\u001b[0m\u001b[0;34m(\u001b[0m\u001b[0mx\u001b[0m\u001b[0;34m,\u001b[0m \u001b[0my\u001b[0m\u001b[0;34m,\u001b[0m \u001b[0mcolor\u001b[0m\u001b[0;34m=\u001b[0m\u001b[0;34m'blue'\u001b[0m\u001b[0;34m,\u001b[0m \u001b[0medgecolor\u001b[0m\u001b[0;34m=\u001b[0m\u001b[0;34m'black'\u001b[0m\u001b[0;34m)\u001b[0m\u001b[0;34m\u001b[0m\u001b[0;34m\u001b[0m\u001b[0m\n\u001b[1;32m      5\u001b[0m \u001b[0;34m\u001b[0m\u001b[0m\n",
      "\u001b[0;31mNameError\u001b[0m: name 'plt' is not defined"
     ]
    }
   ],
   "source": [
    "# barchart to show avg. gross by genre\n",
    "# using seaborn module\n",
    "plt.figure(figsize=(15,7))\n",
    "sns.barplot(x, y, color='blue', edgecolor='black')\n",
    "\n",
    "# add title and axes labels\n",
    "# rotating x-tick labels and editing fontsize so that is is readable\n",
    "plt.title('Avg. Gross by Genre', fontsize=20)\n",
    "plt.xlabel('Genres', fontsize=18)\n",
    "plt.ylabel('Avg. Gross (in hundereds of millions)', fontsize=18)\n",
    "plt.xticks(rotation=45, fontsize=15)\n",
    "plt.yticks(fontsize=15)\n",
    "\n",
    "plt.savefig('Graphs/Gross_by_Genre2.png')\n",
    "plt.show()"
   ]
  },
  {
   "cell_type": "markdown",
   "metadata": {},
   "source": [
    "## Mean Revenue by Month"
   ]
  },
  {
   "cell_type": "code",
   "execution_count": 37,
   "metadata": {},
   "outputs": [
    {
     "data": {
      "image/png": "[encoded data removed]",
      "text/plain": [
       "<Figure size 864x576 with 1 Axes>"
      ]
     },
     "metadata": {},
     "output_type": "display_data"
    }
   ],
   "source": [
    "# month column is currently stored as numbers\n",
    "# hard-coded labels to add as x-tick labels\n",
    "x_tick_labels = ['Jan','Feb','Mar','Apr','May','Jun','Jul','Aug','Sep','Oct','Nov','Dec']\n",
    "\n",
    "# using seaborn library to create barchart of avg. gross by month\n",
    "plt.figure(figsize=(12,8))\n",
    "sns.barplot(x=x_tick_labels, y=mean_revenue['gross'], color='orange', edgecolor='black')\n",
    "\n",
    "# add title and axes labels\n",
    "plt.title('Avg. Movie Gross by Month', fontsize=20)\n",
    "plt.xlabel('Month', fontsize=18)\n",
    "plt.ylabel('Avg. Gross (in hundreds of millions)',fontsize=18)\n",
    "plt.xticks(fontsize=15)\n",
    "plt.yticks(fontsize=12)\n",
    "\n",
    "#plt.savefig('AvgGross_Month.png')\n",
    "plt.show()"
   ]
  },
  {
   "cell_type": "markdown",
   "metadata": {},
   "source": [
    "### Alternative visualization to the barchart above. Instead, visualizing the same data using a lineplot with seaborn"
   ]
  },
  {
   "cell_type": "code",
   "execution_count": 38,
   "metadata": {},
   "outputs": [
    {
     "data": {
      "image/png": "[encoded data removed]",
      "text/plain": [
       "<Figure size 1008x576 with 1 Axes>"
      ]
     },
     "metadata": {},
     "output_type": "display_data"
    }
   ],
   "source": [
    "# lineplot using seaborn\n",
    "plt.figure(figsize=(14, 8))\n",
    "sns.lineplot(x=x_tick_labels,y=mean_revenue['gross'], ci=None)\n",
    "\n",
    "# title and axes labels\n",
    "sns.set_style('darkgrid')\n",
    "plt.title('Avg. Movie Gross by Month', fontsize=20)\n",
    "plt.xlabel('Genre', fontsize=18)\n",
    "plt.ylabel('Avg. Gross (in hundreds of millions)',fontsize=18)\n",
    "plt.xticks(fontsize=15)\n",
    "plt.yticks(fontsize=12)\n",
    "\n",
    "#plt.savefig('AvgGross_Month_line.png')\n",
    "plt.show()"
   ]
  }
 ],
 "metadata": {
  "kernelspec": {
   "display_name": "Python (learn-env)",
   "language": "python",
   "name": "learn-env"
  },
  "language_info": {
   "codemirror_mode": {
    "name": "ipython",
    "version": 3
   },
   "file_extension": ".py",
   "mimetype": "text/x-python",
   "name": "python",
   "nbconvert_exporter": "python",
   "pygments_lexer": "ipython3",
   "version": "3.8.5"
  }
 },
 "nbformat": 4,
 "nbformat_minor": 4
}
